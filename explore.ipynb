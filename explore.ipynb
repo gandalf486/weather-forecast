{
 "cells": [
  {
   "cell_type": "code",
   "execution_count": 11,
   "metadata": {},
   "outputs": [],
   "source": [
    "import pandas as pd\n",
    "import numpy as np\n",
    "import matplotlib.pyplot as plt\n",
    "import seaborn as sns"
   ]
  },
  {
   "cell_type": "code",
   "execution_count": 25,
   "metadata": {},
   "outputs": [
    {
     "name": "stdout",
     "output_type": "stream",
     "text": [
      "(8760, 6)\n"
     ]
    },
    {
     "data": {
      "text/html": [
       "<div>\n",
       "<style scoped>\n",
       "    .dataframe tbody tr th:only-of-type {\n",
       "        vertical-align: middle;\n",
       "    }\n",
       "\n",
       "    .dataframe tbody tr th {\n",
       "        vertical-align: top;\n",
       "    }\n",
       "\n",
       "    .dataframe thead th {\n",
       "        text-align: right;\n",
       "    }\n",
       "</style>\n",
       "<table border=\"1\" class=\"dataframe\">\n",
       "  <thead>\n",
       "    <tr style=\"text-align: right;\">\n",
       "      <th></th>\n",
       "      <th>ts</th>\n",
       "      <th>wind_direction</th>\n",
       "      <th>wind_speed_avg</th>\n",
       "      <th>wind_speed_std</th>\n",
       "      <th>temp</th>\n",
       "      <th>density</th>\n",
       "    </tr>\n",
       "  </thead>\n",
       "  <tbody>\n",
       "    <tr>\n",
       "      <th>0</th>\n",
       "      <td>2021-01-01 06:00:00+00:00</td>\n",
       "      <td>NaN</td>\n",
       "      <td>5.110103</td>\n",
       "      <td>NaN</td>\n",
       "      <td>-0.896897</td>\n",
       "      <td>NaN</td>\n",
       "    </tr>\n",
       "    <tr>\n",
       "      <th>1</th>\n",
       "      <td>2021-01-01 07:00:00+00:00</td>\n",
       "      <td>NaN</td>\n",
       "      <td>5.221429</td>\n",
       "      <td>NaN</td>\n",
       "      <td>-0.847589</td>\n",
       "      <td>NaN</td>\n",
       "    </tr>\n",
       "    <tr>\n",
       "      <th>2</th>\n",
       "      <td>2021-01-01 08:00:00+00:00</td>\n",
       "      <td>NaN</td>\n",
       "      <td>5.411667</td>\n",
       "      <td>NaN</td>\n",
       "      <td>-1.000000</td>\n",
       "      <td>NaN</td>\n",
       "    </tr>\n",
       "    <tr>\n",
       "      <th>3</th>\n",
       "      <td>2021-01-01 09:00:00+00:00</td>\n",
       "      <td>NaN</td>\n",
       "      <td>4.855000</td>\n",
       "      <td>NaN</td>\n",
       "      <td>-1.000000</td>\n",
       "      <td>NaN</td>\n",
       "    </tr>\n",
       "    <tr>\n",
       "      <th>4</th>\n",
       "      <td>2021-01-01 10:00:00+00:00</td>\n",
       "      <td>NaN</td>\n",
       "      <td>4.369630</td>\n",
       "      <td>NaN</td>\n",
       "      <td>-0.398102</td>\n",
       "      <td>NaN</td>\n",
       "    </tr>\n",
       "  </tbody>\n",
       "</table>\n",
       "</div>"
      ],
      "text/plain": [
       "                          ts  wind_direction  wind_speed_avg  wind_speed_std  \\\n",
       "0  2021-01-01 06:00:00+00:00             NaN        5.110103             NaN   \n",
       "1  2021-01-01 07:00:00+00:00             NaN        5.221429             NaN   \n",
       "2  2021-01-01 08:00:00+00:00             NaN        5.411667             NaN   \n",
       "3  2021-01-01 09:00:00+00:00             NaN        4.855000             NaN   \n",
       "4  2021-01-01 10:00:00+00:00             NaN        4.369630             NaN   \n",
       "\n",
       "       temp  density  \n",
       "0 -0.896897      NaN  \n",
       "1 -0.847589      NaN  \n",
       "2 -1.000000      NaN  \n",
       "3 -1.000000      NaN  \n",
       "4 -0.398102      NaN  "
      ]
     },
     "execution_count": 25,
     "metadata": {},
     "output_type": "execute_result"
    }
   ],
   "source": [
    "weather_data = pd.read_csv('data/spark_renewable_ds_forecast_challenge.csv', parse_dates=False)\n",
    "weather_data.rename(columns={'TimeStamp (UTC)':'ts',\n",
    "                             'WindDirection Avg':'wind_direction',\n",
    "                             'WindSpeed Avg':'wind_speed_avg',\n",
    "                             'WindSpeed StdDev':'wind_speed_std',\n",
    "                             'T AMB Avg':'temp',\n",
    "                             'In AirDensity Avg':'density'},inplace=True)\n",
    "\n",
    "print(weather_data.shape)\n",
    "weather_data.head()"
   ]
  },
  {
   "cell_type": "code",
   "execution_count": 27,
   "metadata": {},
   "outputs": [
    {
     "data": {
      "text/plain": [
       "ts                   0\n",
       "wind_direction    2192\n",
       "wind_speed_avg      20\n",
       "wind_speed_std     135\n",
       "temp                20\n",
       "density            291\n",
       "dtype: int64"
      ]
     },
     "execution_count": 27,
     "metadata": {},
     "output_type": "execute_result"
    }
   ],
   "source": [
    "weather_data.isna().sum(axis=0)"
   ]
  },
  {
   "cell_type": "code",
   "execution_count": null,
   "metadata": {},
   "outputs": [],
   "source": []
  }
 ],
 "metadata": {
  "kernelspec": {
   "display_name": "weather-forecast",
   "language": "python",
   "name": "python3"
  },
  "language_info": {
   "codemirror_mode": {
    "name": "ipython",
    "version": 3
   },
   "file_extension": ".py",
   "mimetype": "text/x-python",
   "name": "python",
   "nbconvert_exporter": "python",
   "pygments_lexer": "ipython3",
   "version": "3.12.4"
  }
 },
 "nbformat": 4,
 "nbformat_minor": 2
}
